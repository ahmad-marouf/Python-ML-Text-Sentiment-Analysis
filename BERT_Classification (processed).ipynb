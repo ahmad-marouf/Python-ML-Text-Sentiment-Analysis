{
  "cells": [
    {
      "cell_type": "code",
      "execution_count": 1,
      "id": "7e45eec9",
      "metadata": {
        "colab": {
          "base_uri": "https://localhost:8080/"
        },
        "id": "7e45eec9",
        "outputId": "86aa8735-57c3-43cc-9bf6-43c5a00632e8"
      },
      "outputs": [],
      "source": [
        "# !pip install transformers\n",
        "from sklearn.model_selection import train_test_split\n",
        "from nltk.corpus import stopwords\n",
        "from nltk.stem import WordNetLemmatizer\n",
        "from nltk.tokenize.treebank import TreebankWordDetokenizer\n",
        "from sklearn.metrics import confusion_matrix, classification_report, ConfusionMatrixDisplay\n",
        "from collections import defaultdict\n",
        "import pandas as pd\n",
        "import numpy as np\n",
        "import nltk\n",
        "# nltk.download('punkt')\n",
        "# nltk.download('stopwords')\n",
        "# nltk.download('wordnet')\n",
        "import string\n",
        "import re\n",
        "import seaborn as sns\n",
        "import matplotlib.pyplot as plt\n",
        "import gc\n",
        "from transformers import BertModel, BertTokenizer, get_linear_schedule_with_warmup\n",
        "\n",
        "from nltk.stem.snowball import SnowballStemmer\n",
        "st = SnowballStemmer('english')\n",
        "\n",
        "import torch\n",
        "from torch import nn, optim\n",
        "from torch.utils.data import Dataset, DataLoader\n"
      ]
    },
    {
      "cell_type": "code",
      "execution_count": 2,
      "id": "ecb35d1e",
      "metadata": {},
      "outputs": [
        {
          "data": {
            "text/plain": [
              "True"
            ]
          },
          "execution_count": 2,
          "metadata": {},
          "output_type": "execute_result"
        }
      ],
      "source": [
        "torch.cuda.is_available()"
      ]
    },
    {
      "cell_type": "markdown",
      "id": "c21e7a31",
      "metadata": {
        "id": "c21e7a31"
      },
      "source": [
        "## Load data"
      ]
    },
    {
      "cell_type": "code",
      "execution_count": 3,
      "id": "fb04cf4c",
      "metadata": {
        "colab": {
          "base_uri": "https://localhost:8080/",
          "height": 380
        },
        "id": "fb04cf4c",
        "outputId": "2cf88db4-cd80-4db8-d540-470d52df4c1c"
      },
      "outputs": [],
      "source": [
        "\n",
        "df=pd.read_csv(\"IMDB Dataset.csv\")"
      ]
    },
    {
      "cell_type": "markdown",
      "id": "fb8367fa",
      "metadata": {
        "id": "fb8367fa"
      },
      "source": [
        "**Check the head of df**"
      ]
    },
    {
      "cell_type": "code",
      "execution_count": 4,
      "id": "057ea4b6",
      "metadata": {
        "id": "057ea4b6",
        "scrolled": true
      },
      "outputs": [
        {
          "data": {
            "text/html": [
              "<div>\n",
              "<style scoped>\n",
              "    .dataframe tbody tr th:only-of-type {\n",
              "        vertical-align: middle;\n",
              "    }\n",
              "\n",
              "    .dataframe tbody tr th {\n",
              "        vertical-align: top;\n",
              "    }\n",
              "\n",
              "    .dataframe thead th {\n",
              "        text-align: right;\n",
              "    }\n",
              "</style>\n",
              "<table border=\"1\" class=\"dataframe\">\n",
              "  <thead>\n",
              "    <tr style=\"text-align: right;\">\n",
              "      <th></th>\n",
              "      <th>review</th>\n",
              "      <th>sentiment</th>\n",
              "    </tr>\n",
              "  </thead>\n",
              "  <tbody>\n",
              "    <tr>\n",
              "      <th>0</th>\n",
              "      <td>One of the other reviewers has mentioned that ...</td>\n",
              "      <td>positive</td>\n",
              "    </tr>\n",
              "    <tr>\n",
              "      <th>1</th>\n",
              "      <td>A wonderful little production. &lt;br /&gt;&lt;br /&gt;The...</td>\n",
              "      <td>positive</td>\n",
              "    </tr>\n",
              "    <tr>\n",
              "      <th>2</th>\n",
              "      <td>I thought this was a wonderful way to spend ti...</td>\n",
              "      <td>positive</td>\n",
              "    </tr>\n",
              "    <tr>\n",
              "      <th>3</th>\n",
              "      <td>Basically there's a family where a little boy ...</td>\n",
              "      <td>negative</td>\n",
              "    </tr>\n",
              "    <tr>\n",
              "      <th>4</th>\n",
              "      <td>Petter Mattei's \"Love in the Time of Money\" is...</td>\n",
              "      <td>positive</td>\n",
              "    </tr>\n",
              "  </tbody>\n",
              "</table>\n",
              "</div>"
            ],
            "text/plain": [
              "                                              review sentiment\n",
              "0  One of the other reviewers has mentioned that ...  positive\n",
              "1  A wonderful little production. <br /><br />The...  positive\n",
              "2  I thought this was a wonderful way to spend ti...  positive\n",
              "3  Basically there's a family where a little boy ...  negative\n",
              "4  Petter Mattei's \"Love in the Time of Money\" is...  positive"
            ]
          },
          "execution_count": 4,
          "metadata": {},
          "output_type": "execute_result"
        }
      ],
      "source": [
        "df.head()"
      ]
    },
    {
      "cell_type": "code",
      "execution_count": 5,
      "id": "b5d5c5ac",
      "metadata": {
        "id": "b5d5c5ac"
      },
      "outputs": [
        {
          "data": {
            "text/html": [
              "<div>\n",
              "<style scoped>\n",
              "    .dataframe tbody tr th:only-of-type {\n",
              "        vertical-align: middle;\n",
              "    }\n",
              "\n",
              "    .dataframe tbody tr th {\n",
              "        vertical-align: top;\n",
              "    }\n",
              "\n",
              "    .dataframe thead th {\n",
              "        text-align: right;\n",
              "    }\n",
              "</style>\n",
              "<table border=\"1\" class=\"dataframe\">\n",
              "  <thead>\n",
              "    <tr style=\"text-align: right;\">\n",
              "      <th></th>\n",
              "      <th>review</th>\n",
              "      <th>sentiment</th>\n",
              "    </tr>\n",
              "  </thead>\n",
              "  <tbody>\n",
              "    <tr>\n",
              "      <th>49995</th>\n",
              "      <td>I thought this movie did a down right good job...</td>\n",
              "      <td>positive</td>\n",
              "    </tr>\n",
              "    <tr>\n",
              "      <th>49996</th>\n",
              "      <td>Bad plot, bad dialogue, bad acting, idiotic di...</td>\n",
              "      <td>negative</td>\n",
              "    </tr>\n",
              "    <tr>\n",
              "      <th>49997</th>\n",
              "      <td>I am a Catholic taught in parochial elementary...</td>\n",
              "      <td>negative</td>\n",
              "    </tr>\n",
              "    <tr>\n",
              "      <th>49998</th>\n",
              "      <td>I'm going to have to disagree with the previou...</td>\n",
              "      <td>negative</td>\n",
              "    </tr>\n",
              "    <tr>\n",
              "      <th>49999</th>\n",
              "      <td>No one expects the Star Trek movies to be high...</td>\n",
              "      <td>negative</td>\n",
              "    </tr>\n",
              "  </tbody>\n",
              "</table>\n",
              "</div>"
            ],
            "text/plain": [
              "                                                  review sentiment\n",
              "49995  I thought this movie did a down right good job...  positive\n",
              "49996  Bad plot, bad dialogue, bad acting, idiotic di...  negative\n",
              "49997  I am a Catholic taught in parochial elementary...  negative\n",
              "49998  I'm going to have to disagree with the previou...  negative\n",
              "49999  No one expects the Star Trek movies to be high...  negative"
            ]
          },
          "execution_count": 5,
          "metadata": {},
          "output_type": "execute_result"
        }
      ],
      "source": [
        "df.tail()"
      ]
    },
    {
      "cell_type": "code",
      "execution_count": 6,
      "id": "469b9d2a",
      "metadata": {
        "id": "469b9d2a",
        "scrolled": true
      },
      "outputs": [
        {
          "data": {
            "text/plain": [
              "positive    25000\n",
              "negative    25000\n",
              "Name: sentiment, dtype: int64"
            ]
          },
          "execution_count": 6,
          "metadata": {},
          "output_type": "execute_result"
        }
      ],
      "source": [
        "df['sentiment'].value_counts()"
      ]
    },
    {
      "cell_type": "markdown",
      "id": "92c728f8",
      "metadata": {
        "id": "92c728f8"
      },
      "source": [
        "## Pre-processing"
      ]
    },
    {
      "cell_type": "code",
      "execution_count": 7,
      "id": "f2ce72ca",
      "metadata": {
        "id": "f2ce72ca"
      },
      "outputs": [],
      "source": [
        "def to_sentiment(rating):\n",
        "  if rating == 'positive':\n",
        "    return 1\n",
        "  else:\n",
        "    return 0\n",
        "df['sentiment'] = df.sentiment.apply(to_sentiment)"
      ]
    },
    {
      "cell_type": "markdown",
      "id": "5b8da4cd",
      "metadata": {},
      "source": [
        "### Preprocessing Function"
      ]
    },
    {
      "cell_type": "code",
      "execution_count": 8,
      "id": "1ec88d5b",
      "metadata": {},
      "outputs": [],
      "source": [
        "def processText(df):\n",
        "    processed_Reviews = []\n",
        "    for review in df.review:\n",
        "        # original\n",
        "        # print(review)\n",
        "\n",
        "        # set all as lowercase\n",
        "        lowerCase = review.lower()\n",
        "\n",
        "        # tokenize\n",
        "        tokens = nltk.word_tokenize(lowerCase)\n",
        "\n",
        "        # remove punctuation\n",
        "        regex = re.compile(f'[{re.escape(string.punctuation)}]')\n",
        "        tokens_NoPunct = [regex.sub('', word) for word in tokens if not regex.sub('', word) == '']\n",
        "\n",
        "        # removing stopwords\n",
        "        stop_words = stopwords.words('english')\n",
        "        stop_words.append('via')\n",
        "        tokens_NoStopWords = [token for token in tokens_NoPunct if token not in stop_words]\n",
        "\n",
        "        # remove links\n",
        "        regex = re.compile('http\\S+')\n",
        "        tokens_NoLinks = [regex.sub('', word) for word in tokens_NoStopWords if not regex.sub('', word) == '' and not word.startswith('tc')]\n",
        "\n",
        "        # Lemmatizing\n",
        "        lemmatizer = WordNetLemmatizer()\n",
        "        lemmatized_words = [lemmatizer.lemmatize(word) for word in tokens_NoLinks]\n",
        "\n",
        "        # Detokenizing\n",
        "        untokenized = TreebankWordDetokenizer().detokenize(lemmatized_words)\n",
        "\n",
        "        processed_Reviews.append(untokenized)\n",
        "    return processed_Reviews"
      ]
    },
    {
      "cell_type": "code",
      "execution_count": 9,
      "id": "9ac9907e",
      "metadata": {},
      "outputs": [],
      "source": [
        "processed_Reviews = processText(df)\n",
        "df['processedReview'] = processed_Reviews"
      ]
    },
    {
      "cell_type": "code",
      "execution_count": 10,
      "id": "c14c2cdd",
      "metadata": {},
      "outputs": [
        {
          "data": {
            "text/html": [
              "<div>\n",
              "<style scoped>\n",
              "    .dataframe tbody tr th:only-of-type {\n",
              "        vertical-align: middle;\n",
              "    }\n",
              "\n",
              "    .dataframe tbody tr th {\n",
              "        vertical-align: top;\n",
              "    }\n",
              "\n",
              "    .dataframe thead th {\n",
              "        text-align: right;\n",
              "    }\n",
              "</style>\n",
              "<table border=\"1\" class=\"dataframe\">\n",
              "  <thead>\n",
              "    <tr style=\"text-align: right;\">\n",
              "      <th></th>\n",
              "      <th>review</th>\n",
              "      <th>sentiment</th>\n",
              "      <th>processedReview</th>\n",
              "    </tr>\n",
              "  </thead>\n",
              "  <tbody>\n",
              "    <tr>\n",
              "      <th>0</th>\n",
              "      <td>One of the other reviewers has mentioned that ...</td>\n",
              "      <td>1</td>\n",
              "      <td>one reviewer mentioned watching 1 oz episode h...</td>\n",
              "    </tr>\n",
              "    <tr>\n",
              "      <th>1</th>\n",
              "      <td>A wonderful little production. &lt;br /&gt;&lt;br /&gt;The...</td>\n",
              "      <td>1</td>\n",
              "      <td>wonderful little production br br filming tech...</td>\n",
              "    </tr>\n",
              "    <tr>\n",
              "      <th>2</th>\n",
              "      <td>I thought this was a wonderful way to spend ti...</td>\n",
              "      <td>1</td>\n",
              "      <td>thought wonderful way spend time hot summer we...</td>\n",
              "    </tr>\n",
              "    <tr>\n",
              "      <th>3</th>\n",
              "      <td>Basically there's a family where a little boy ...</td>\n",
              "      <td>0</td>\n",
              "      <td>basically family little boy jake think zombie ...</td>\n",
              "    </tr>\n",
              "    <tr>\n",
              "      <th>4</th>\n",
              "      <td>Petter Mattei's \"Love in the Time of Money\" is...</td>\n",
              "      <td>1</td>\n",
              "      <td>petter mattei love time money visually stunnin...</td>\n",
              "    </tr>\n",
              "  </tbody>\n",
              "</table>\n",
              "</div>"
            ],
            "text/plain": [
              "                                              review  sentiment  \\\n",
              "0  One of the other reviewers has mentioned that ...          1   \n",
              "1  A wonderful little production. <br /><br />The...          1   \n",
              "2  I thought this was a wonderful way to spend ti...          1   \n",
              "3  Basically there's a family where a little boy ...          0   \n",
              "4  Petter Mattei's \"Love in the Time of Money\" is...          1   \n",
              "\n",
              "                                     processedReview  \n",
              "0  one reviewer mentioned watching 1 oz episode h...  \n",
              "1  wonderful little production br br filming tech...  \n",
              "2  thought wonderful way spend time hot summer we...  \n",
              "3  basically family little boy jake think zombie ...  \n",
              "4  petter mattei love time money visually stunnin...  "
            ]
          },
          "execution_count": 10,
          "metadata": {},
          "output_type": "execute_result"
        }
      ],
      "source": [
        "df.head()"
      ]
    },
    {
      "cell_type": "markdown",
      "id": "b4c495d7",
      "metadata": {
        "id": "b4c495d7"
      },
      "source": [
        "## Data Split\n"
      ]
    },
    {
      "cell_type": "markdown",
      "id": "c7d98ddb",
      "metadata": {
        "id": "c7d98ddb"
      },
      "source": [
        "#### Train Test Validation Split"
      ]
    },
    {
      "cell_type": "code",
      "execution_count": 12,
      "id": "db7715f0",
      "metadata": {
        "id": "db7715f0"
      },
      "outputs": [
        {
          "name": "stdout",
          "output_type": "stream",
          "text": [
            "1    17500\n",
            "0    17500\n",
            "Name: sentiment, dtype: int64\n",
            "0    2500\n",
            "1    2500\n",
            "Name: sentiment, dtype: int64\n",
            "0    5000\n",
            "1    5000\n",
            "Name: sentiment, dtype: int64\n"
          ]
        }
      ],
      "source": [
        "X = df.drop(columns='sentiment')\n",
        "y = df['sentiment']\n",
        "\n",
        "\n",
        "X_train, X_test, y_train, y_test = train_test_split(X, y, test_size=0.2, random_state=123, stratify= y)\n",
        "X_train, X_val, y_train, y_val = train_test_split(X_train, y_train, test_size=0.125, random_state=123, stratify= y_train)\n",
        "\n",
        "\n",
        "print(y_train.value_counts())\n",
        "print(y_val.value_counts())\n",
        "print(y_test.value_counts())"
      ]
    },
    {
      "cell_type": "markdown",
      "id": "9af441b7",
      "metadata": {},
      "source": [
        "### Checking lengths of reviews"
      ]
    },
    {
      "cell_type": "code",
      "execution_count": 13,
      "id": "QHYigbnkwa-L",
      "metadata": {
        "id": "QHYigbnkwa-L"
      },
      "outputs": [],
      "source": [
        "# PRE_TRAINED_MODEL_NAME = 'bert-base-uncased'\n",
        "# tokenizer = BertTokenizer.from_pretrained(PRE_TRAINED_MODEL_NAME)"
      ]
    },
    {
      "cell_type": "code",
      "execution_count": 14,
      "id": "Qpki1X-SwPoJ",
      "metadata": {
        "id": "Qpki1X-SwPoJ"
      },
      "outputs": [],
      "source": [
        "# tokens_lens = []\n",
        "\n",
        "# for txt in df.review:\n",
        "#   tokens = tokenizer.encode(txt, max_length = 512)\n",
        "#   tokens_lens.append(len(tokens))"
      ]
    },
    {
      "cell_type": "code",
      "execution_count": 15,
      "id": "kChO3Ng7yzRB",
      "metadata": {
        "id": "kChO3Ng7yzRB"
      },
      "outputs": [],
      "source": [
        "# sns.distplot(tokens_lens)\n",
        "# plt.xlim([0, 256]);\n",
        "# plt.xlabel('Token count');"
      ]
    },
    {
      "cell_type": "markdown",
      "id": "6ca7e8f8",
      "metadata": {
        "id": "6ca7e8f8"
      },
      "source": [
        "# Classification Using BERT"
      ]
    },
    {
      "cell_type": "markdown",
      "id": "c6b77999",
      "metadata": {
        "id": "c6b77999"
      },
      "source": [
        "### Custom Dataset Class & Dataloader Function"
      ]
    },
    {
      "cell_type": "code",
      "execution_count": 16,
      "id": "ddbcb4ae",
      "metadata": {
        "id": "ddbcb4ae"
      },
      "outputs": [],
      "source": [
        "class IMDBReviewsDataset(Dataset):\n",
        "\n",
        "  def __init__(self, reviews, targets, tokenizer, max_len):\n",
        "    self.reviews = reviews\n",
        "    self.targets = targets\n",
        "    self.tokenizer = tokenizer\n",
        "    self.max_len = max_len\n",
        "\n",
        "  def __len__(self):\n",
        "    return len(self.reviews)\n",
        "\n",
        "  def __getitem__(self, item):\n",
        "    review = self.reviews[item]\n",
        "    target = self.targets[item]\n",
        "    encoding = self.tokenizer.encode_plus(\n",
        "        review,\n",
        "        add_special_tokens = True, # Add '[CLS]' and '[SEP]'\n",
        "        max_length = self.max_len,\n",
        "        padding = 'max_length',\n",
        "        truncation = True,\n",
        "        return_attention_mask = True,\n",
        "        return_token_type_ids = False,\n",
        "        return_tensors = 'pt',  # Return PyTorch tensors\n",
        "    )\n",
        "\n",
        "    return {\n",
        "      'review_text': review,\n",
        "      'input_ids': encoding['input_ids'].flatten(),\n",
        "      'attention_mask': encoding['attention_mask'].flatten(),\n",
        "      'targets': torch.tensor(target, dtype=torch.long)\n",
        "    }\n",
        "\n",
        "\n",
        "def create_data_loader(features, classification, tokenizer, max_len, batch_size, reviewType):\n",
        "\n",
        "  if reviewType == 0:\n",
        "    reviews = features.review.to_numpy()\n",
        "  else:\n",
        "    reviews = features.processedReview.to_numpy()\n",
        "\n",
        "  dataset = IMDBReviewsDataset(\n",
        "      reviews = reviews,\n",
        "      targets = classification.to_numpy(),\n",
        "      tokenizer = tokenizer,\n",
        "      max_len = max_len\n",
        "  )\n",
        "  return DataLoader(\n",
        "      dataset,\n",
        "      batch_size = batch_size,\n",
        "      num_workers = 0\n",
        "  )"
      ]
    },
    {
      "cell_type": "markdown",
      "id": "c3330399",
      "metadata": {
        "id": "c3330399"
      },
      "source": [
        "#### Creating Dataloaders"
      ]
    },
    {
      "cell_type": "code",
      "execution_count": 17,
      "id": "bc4128db",
      "metadata": {
        "id": "bc4128db"
      },
      "outputs": [],
      "source": [
        "PRE_TRAINED_MODEL_NAME = 'bert-base-uncased'\n",
        "tokenizer = BertTokenizer.from_pretrained(PRE_TRAINED_MODEL_NAME)\n",
        "\n",
        "train_data_loader = create_data_loader(X_train, y_train, tokenizer, 50, 16, 1)\n",
        "val_data_loader = create_data_loader(X_val, y_val, tokenizer, 50, 16, 1)\n",
        "test_data_loader = create_data_loader(X_test, y_test, tokenizer, 50, 16, 1)"
      ]
    },
    {
      "cell_type": "markdown",
      "id": "cfcd2da8",
      "metadata": {
        "id": "cfcd2da8"
      },
      "source": [
        "### Classifier"
      ]
    },
    {
      "cell_type": "markdown",
      "id": "4cdd1291",
      "metadata": {
        "id": "4cdd1291"
      },
      "source": [
        "##### Classifier NN Module"
      ]
    },
    {
      "cell_type": "code",
      "execution_count": 18,
      "id": "d2a3e005",
      "metadata": {
        "id": "d2a3e005"
      },
      "outputs": [
        {
          "name": "stdout",
          "output_type": "stream",
          "text": [
            "cuda:0\n"
          ]
        }
      ],
      "source": [
        "device = torch.device(\"cuda:0\" if torch.cuda.is_available() else \"cpu\")\n",
        "print(device)\n",
        "\n",
        "class SentimentClassifier(nn.Module):\n",
        "\n",
        "  def __init__(self, n_classes):\n",
        "    super(SentimentClassifier, self).__init__()\n",
        "\n",
        "\n",
        "    self.bert = BertModel.from_pretrained(PRE_TRAINED_MODEL_NAME)\n",
        "    self.drop = nn.Dropout(p=0.3)\n",
        "    \n",
        "    self.out = nn.Sequential(\n",
        "      nn.Linear(768, 512),\n",
        "      nn.ReLU(),\n",
        "      nn.Linear(512, 256),\n",
        "      nn.ReLU(),\n",
        "      nn.Linear(256, 128),\n",
        "      nn.ReLU(),\n",
        "      nn.Linear(128, 64),\n",
        "      nn.ReLU(),\n",
        "      nn.Linear(64, n_classes),\n",
        "    )\n",
        "\n",
        "  def forward(self, input_ids, attention_mask):\n",
        "    bm = self.bert(\n",
        "      input_ids=input_ids,\n",
        "      attention_mask=attention_mask,\n",
        "      \n",
        "    )\n",
        "    output = self.drop(bm['pooler_output'])\n",
        "    return self.out(output)"
      ]
    },
    {
      "cell_type": "markdown",
      "id": "ffQHUy7lRdV-",
      "metadata": {
        "id": "ffQHUy7lRdV-"
      },
      "source": [
        "##### Model Training"
      ]
    },
    {
      "cell_type": "code",
      "execution_count": 19,
      "id": "Nqr3kE2fQnTg",
      "metadata": {
        "id": "Nqr3kE2fQnTg"
      },
      "outputs": [
        {
          "name": "stderr",
          "output_type": "stream",
          "text": [
            "Some weights of the model checkpoint at bert-base-uncased were not used when initializing BertModel: ['cls.predictions.decoder.weight', 'cls.predictions.transform.dense.bias', 'cls.predictions.bias', 'cls.predictions.transform.LayerNorm.bias', 'cls.seq_relationship.bias', 'cls.predictions.transform.LayerNorm.weight', 'cls.predictions.transform.dense.weight', 'cls.seq_relationship.weight']\n",
            "- This IS expected if you are initializing BertModel from the checkpoint of a model trained on another task or with another architecture (e.g. initializing a BertForSequenceClassification model from a BertForPreTraining model).\n",
            "- This IS NOT expected if you are initializing BertModel from the checkpoint of a model that you expect to be exactly identical (initializing a BertForSequenceClassification model from a BertForSequenceClassification model).\n"
          ]
        }
      ],
      "source": [
        "model = SentimentClassifier(2)\n",
        "model = model.to(device)\n",
        "\n",
        "EPOCHS = 5\n",
        "\n",
        "optimizer = optim.Adam(model.parameters(), lr=5e-5)\n",
        "total_steps = len(train_data_loader) * EPOCHS\n",
        "\n",
        "scheduler = get_linear_schedule_with_warmup(optimizer, num_warmup_steps = 0, num_training_steps = total_steps)\n",
        "\n",
        "loss_fn = nn.CrossEntropyLoss().to(device)"
      ]
    },
    {
      "cell_type": "code",
      "execution_count": 20,
      "id": "eyY6iLEoRUw6",
      "metadata": {
        "id": "eyY6iLEoRUw6"
      },
      "outputs": [],
      "source": [
        "def train_epoch(model, data_loader, loss_fn, optimizer, device, scheduler, n_examples):\n",
        "  model = model.train()\n",
        "  losses = []\n",
        "  correct_predictions = 0\n",
        "\n",
        "  for d in data_loader:\n",
        "    input_ids = d['input_ids'].to(device)\n",
        "    attention_mask = d['attention_mask'].to(device)\n",
        "    targets = d['targets'].to(device)\n",
        "\n",
        "    outputs = model(\n",
        "        input_ids = input_ids,\n",
        "        attention_mask = attention_mask\n",
        "    )\n",
        "\n",
        "\n",
        "    # print(\"outputs: \", outputs)\n",
        "    _,preds = torch.max(outputs, dim=1)\n",
        "    # print(\"max: \", preds)\n",
        "    loss = loss_fn(outputs,targets)\n",
        "\n",
        "    correct_predictions += torch.sum(preds == targets)\n",
        "    # print(\"correct_predictions: \", correct_predictions)\n",
        "    losses.append(loss.item())\n",
        "  \n",
        "    loss.backward()\n",
        "    nn.utils.clip_grad_norm_(model.parameters(), max_norm=1.0)\n",
        "    optimizer.step()\n",
        "    scheduler.step()\n",
        "    optimizer.zero_grad()\n",
        "\n",
        "    last_lr = scheduler.get_last_lr()\n",
        "\n",
        "  return correct_predictions.double() / n_examples , np.mean(losses), last_lr\n"
      ]
    },
    {
      "cell_type": "code",
      "execution_count": 21,
      "id": "u7K4sJx2TOrB",
      "metadata": {
        "id": "u7K4sJx2TOrB"
      },
      "outputs": [],
      "source": [
        "def eval_model(model, data_loader, loss_fn, device, n_examples):\n",
        "  model = model.eval()\n",
        "  losses = []\n",
        "  correct_predictions = 0\n",
        "  with torch.no_grad():\n",
        "\n",
        "    for d in data_loader:\n",
        "      input_ids = d[\"input_ids\"].to(device)\n",
        "      attention_mask = d[\"attention_mask\"].to(device)\n",
        "      targets = d[\"targets\"].to(device)\n",
        "\n",
        "      outputs = model(\n",
        "        input_ids=input_ids,\n",
        "        attention_mask=attention_mask\n",
        "      )\n",
        "\n",
        "      _,preds = torch.max(outputs, dim=1)\n",
        "      loss = loss_fn(outputs, targets)\n",
        "\n",
        "      correct_predictions += torch.sum(preds == targets)\n",
        "      losses.append(loss.item())\n",
        "\n",
        "  return correct_predictions.double() / n_examples, np.mean(losses)"
      ]
    },
    {
      "cell_type": "code",
      "execution_count": 22,
      "id": "a4799610",
      "metadata": {},
      "outputs": [],
      "source": [
        "gc.collect()\n",
        "torch.cuda.empty_cache()"
      ]
    },
    {
      "cell_type": "code",
      "execution_count": 23,
      "id": "Bq5zj7R-TsNs",
      "metadata": {
        "id": "Bq5zj7R-TsNs"
      },
      "outputs": [
        {
          "name": "stdout",
          "output_type": "stream",
          "text": [
            "Epoch 1 / 5\n",
            "----------\n",
            "Train loss 0.5258654576932272 accuracy 0.7607142857142857\n",
            "Val   loss 0.47944326379809515 accuracy 0.8082\n",
            "Epoch 2 / 5\n",
            "----------\n"
          ]
        }
      ],
      "source": [
        "\n",
        "history = defaultdict(list)\n",
        "best_accuracy = 0\n",
        "\n",
        "for epoch in range(EPOCHS):\n",
        "  print('Epoch', epoch + 1,'/', EPOCHS)\n",
        "  print('----------')\n",
        "\n",
        "  train_acc, train_loss, last_lr = train_epoch(model, train_data_loader, loss_fn, optimizer, device, scheduler, len(X_train))\n",
        "  print(f'Train loss {train_loss} accuracy {train_acc}')\n",
        "\n",
        "  val_acc, val_loss = eval_model(model, val_data_loader, loss_fn, device, len(X_val))\n",
        "  print(f'Val   loss {val_loss} accuracy {val_acc}')\n",
        "\n",
        "  history['train_acc'].append(train_acc)\n",
        "  history['train_loss'].append(train_loss)\n",
        "  history['val_acc'].append(val_acc)\n",
        "  history['val_loss'].append(val_loss)\n",
        "  history['learn_rate'].append(last_lr)\n",
        "\n",
        "  if val_acc > best_accuracy:\n",
        "    torch.save(model.state_dict(), 'best_model_state.bin')\n",
        "    best_accuracy = val_acc"
      ]
    },
    {
      "cell_type": "code",
      "execution_count": null,
      "id": "b2f472f2",
      "metadata": {},
      "outputs": [],
      "source": [
        "historyCopy = history\n",
        "trainAccuracyValues = []\n",
        "valAccuracyValues = []\n",
        "for tensor in historyCopy['train_acc']:\n",
        "    trainAccuracyValues.append(tensor.item())\n",
        "\n",
        "for tensor in historyCopy['val_acc']:\n",
        "    valAccuracyValues.append(tensor.item())\n",
        "\n"
      ]
    },
    {
      "cell_type": "code",
      "execution_count": null,
      "id": "b364fa8f",
      "metadata": {},
      "outputs": [
        {
          "data": {
            "text/plain": [
              "(0.7, 1.0)"
            ]
          },
          "execution_count": 105,
          "metadata": {},
          "output_type": "execute_result"
        },
        {
          "data": {
            "image/png": "[encoded data removed]",
            "text/plain": [
              "<Figure size 432x288 with 1 Axes>"
            ]
          },
          "metadata": {
            "needs_background": "light"
          },
          "output_type": "display_data"
        }
      ],
      "source": [
        "\n",
        "plt.plot(trainAccuracyValues, label='train accuracy')\n",
        "plt.plot(valAccuracyValues, label='validation accuracy')\n",
        "\n",
        "plt.title('Training history')\n",
        "plt.ylabel('Accuracy')\n",
        "plt.xlabel('Epoch')\n",
        "plt.legend()\n",
        "plt.ylim([0.7, 1])"
      ]
    },
    {
      "cell_type": "code",
      "execution_count": null,
      "id": "5ea2ff76",
      "metadata": {},
      "outputs": [],
      "source": [
        "lrHistory = []\n",
        "for tensor in historyCopy['learn_rate']:\n",
        "    lrHistory.append(tensor.item())\n",
        "plt.plot(lrHistory, label='Learning Rates')\n",
        "plt.ylim = [0, 1]"
      ]
    },
    {
      "cell_type": "markdown",
      "id": "d8197ab4",
      "metadata": {},
      "source": [
        "### Results"
      ]
    },
    {
      "cell_type": "code",
      "execution_count": null,
      "id": "58d8ae4c",
      "metadata": {},
      "outputs": [],
      "source": [
        "def get_predictions(model, data_loader):\n",
        "  model = model.eval()\n",
        "  review_texts = []\n",
        "  predictions = []\n",
        "  prediction_probs = []\n",
        "  real_values = []\n",
        "\n",
        "  with torch.no_grad():\n",
        "    for d in data_loader:\n",
        "      texts = d[\"review_text\"]\n",
        "      input_ids = d[\"input_ids\"].to(device)\n",
        "      attention_mask = d[\"attention_mask\"].to(device)\n",
        "      targets = d[\"targets\"].to(device)\n",
        "      \n",
        "      outputs = model(\n",
        "        input_ids=input_ids,\n",
        "        attention_mask=attention_mask\n",
        "      )\n",
        "      _, preds = torch.max(outputs, dim=1)\n",
        "      review_texts.extend(texts)\n",
        "      predictions.extend(preds)\n",
        "      prediction_probs.extend(outputs)\n",
        "      real_values.extend(targets)\n",
        "      \n",
        "  predictions = torch.stack(predictions).cpu()\n",
        "  prediction_probs = torch.stack(prediction_probs).cpu()\n",
        "  real_values = torch.stack(real_values).cpu()\n",
        "  return review_texts, predictions, prediction_probs, real_values"
      ]
    },
    {
      "cell_type": "code",
      "execution_count": null,
      "id": "a7eb907e",
      "metadata": {},
      "outputs": [
        {
          "name": "stdout",
          "output_type": "stream",
          "text": [
            "              precision    recall  f1-score   support\n",
            "\n",
            "    negative       0.84      0.84      0.84      5000\n",
            "    positive       0.84      0.84      0.84      5000\n",
            "\n",
            "    accuracy                           0.84     10000\n",
            "   macro avg       0.84      0.84      0.84     10000\n",
            "weighted avg       0.84      0.84      0.84     10000\n",
            "\n"
          ]
        }
      ],
      "source": [
        "y_review_texts, y_pred, y_pred_probs, y_test = get_predictions(model, test_data_loader)\n",
        "\n",
        "class_names = ['negative', 'positive']\n",
        "print(classification_report(y_test, y_pred, target_names=class_names))"
      ]
    },
    {
      "cell_type": "code",
      "execution_count": null,
      "id": "41f7a21c",
      "metadata": {},
      "outputs": [
        {
          "data": {
            "text/plain": [
              "<sklearn.metrics._plot.confusion_matrix.ConfusionMatrixDisplay at 0x266e0c178b0>"
            ]
          },
          "execution_count": 110,
          "metadata": {},
          "output_type": "execute_result"
        },
        {
          "data": {
            "image/png": "[encoded data removed]",
            "text/plain": [
              "<Figure size 432x288 with 2 Axes>"
            ]
          },
          "metadata": {
            "needs_background": "light"
          },
          "output_type": "display_data"
        }
      ],
      "source": [
        "cm = confusion_matrix(y_test, y_pred)\n",
        "disp = ConfusionMatrixDisplay(confusion_matrix=cm, display_labels=class_names)\n",
        "disp.plot()"
      ]
    }
  ],
  "metadata": {
    "colab": {
      "collapsed_sections": [],
      "name": "BERT Classification .ipynb",
      "provenance": []
    },
    "kernelspec": {
      "display_name": "Python 3 (ipykernel)",
      "language": "python",
      "name": "python3"
    },
    "language_info": {
      "codemirror_mode": {
        "name": "ipython",
        "version": 3
      },
      "file_extension": ".py",
      "mimetype": "text/x-python",
      "name": "python",
      "nbconvert_exporter": "python",
      "pygments_lexer": "ipython3",
      "version": "3.9.10"
    }
  },
  "nbformat": 4,
  "nbformat_minor": 5
}
