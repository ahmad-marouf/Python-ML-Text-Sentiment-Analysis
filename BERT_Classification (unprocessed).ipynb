{
  "cells": [
    {
      "cell_type": "code",
      "execution_count": 1,
      "id": "7e45eec9",
      "metadata": {
        "colab": {
          "base_uri": "https://localhost:8080/"
        },
        "id": "7e45eec9",
        "outputId": "86aa8735-57c3-43cc-9bf6-43c5a00632e8"
      },
      "outputs": [],
      "source": [
        "\n",
        "from sklearn.model_selection import train_test_split\n",
        "from nltk.corpus import stopwords\n",
        "from nltk.stem import WordNetLemmatizer\n",
        "from nltk.tokenize.treebank import TreebankWordDetokenizer\n",
        "from sklearn.metrics import confusion_matrix, classification_report, ConfusionMatrixDisplay\n",
        "from collections import defaultdict\n",
        "import pandas as pd\n",
        "import numpy as np\n",
        "import nltk\n",
        "import string\n",
        "import re\n",
        "import seaborn as sns\n",
        "import matplotlib.pyplot as plt\n",
        "import gc\n",
        "from transformers import BertModel, BertTokenizer, get_linear_schedule_with_warmup\n",
        "\n",
        "from nltk.stem.snowball import SnowballStemmer\n",
        "st = SnowballStemmer('english')\n",
        "\n",
        "import torch\n",
        "from torch import nn, optim\n",
        "from torch.utils.data import Dataset, DataLoader\n"
      ]
    },
    {
      "cell_type": "code",
      "execution_count": 2,
      "id": "ecb35d1e",
      "metadata": {},
      "outputs": [
        {
          "data": {
            "text/plain": [
              "True"
            ]
          },
          "execution_count": 2,
          "metadata": {},
          "output_type": "execute_result"
        }
      ],
      "source": [
        "torch.cuda.is_available()"
      ]
    },
    {
      "cell_type": "markdown",
      "id": "c21e7a31",
      "metadata": {
        "id": "c21e7a31"
      },
      "source": [
        "## Load data"
      ]
    },
    {
      "cell_type": "code",
      "execution_count": 3,
      "id": "fb04cf4c",
      "metadata": {
        "colab": {
          "base_uri": "https://localhost:8080/",
          "height": 380
        },
        "id": "fb04cf4c",
        "outputId": "2cf88db4-cd80-4db8-d540-470d52df4c1c"
      },
      "outputs": [],
      "source": [
        "\n",
        "df=pd.read_csv(\"IMDB Dataset.csv\")"
      ]
    },
    {
      "cell_type": "markdown",
      "id": "fb8367fa",
      "metadata": {
        "id": "fb8367fa"
      },
      "source": [
        "**Check the head of df**"
      ]
    },
    {
      "cell_type": "code",
      "execution_count": 4,
      "id": "057ea4b6",
      "metadata": {
        "id": "057ea4b6",
        "scrolled": true
      },
      "outputs": [
        {
          "data": {
            "text/html": [
              "<div>\n",
              "<style scoped>\n",
              "    .dataframe tbody tr th:only-of-type {\n",
              "        vertical-align: middle;\n",
              "    }\n",
              "\n",
              "    .dataframe tbody tr th {\n",
              "        vertical-align: top;\n",
              "    }\n",
              "\n",
              "    .dataframe thead th {\n",
              "        text-align: right;\n",
              "    }\n",
              "</style>\n",
              "<table border=\"1\" class=\"dataframe\">\n",
              "  <thead>\n",
              "    <tr style=\"text-align: right;\">\n",
              "      <th></th>\n",
              "      <th>review</th>\n",
              "      <th>sentiment</th>\n",
              "    </tr>\n",
              "  </thead>\n",
              "  <tbody>\n",
              "    <tr>\n",
              "      <th>0</th>\n",
              "      <td>One of the other reviewers has mentioned that ...</td>\n",
              "      <td>positive</td>\n",
              "    </tr>\n",
              "    <tr>\n",
              "      <th>1</th>\n",
              "      <td>A wonderful little production. &lt;br /&gt;&lt;br /&gt;The...</td>\n",
              "      <td>positive</td>\n",
              "    </tr>\n",
              "    <tr>\n",
              "      <th>2</th>\n",
              "      <td>I thought this was a wonderful way to spend ti...</td>\n",
              "      <td>positive</td>\n",
              "    </tr>\n",
              "    <tr>\n",
              "      <th>3</th>\n",
              "      <td>Basically there's a family where a little boy ...</td>\n",
              "      <td>negative</td>\n",
              "    </tr>\n",
              "    <tr>\n",
              "      <th>4</th>\n",
              "      <td>Petter Mattei's \"Love in the Time of Money\" is...</td>\n",
              "      <td>positive</td>\n",
              "    </tr>\n",
              "  </tbody>\n",
              "</table>\n",
              "</div>"
            ],
            "text/plain": [
              "                                              review sentiment\n",
              "0  One of the other reviewers has mentioned that ...  positive\n",
              "1  A wonderful little production. <br /><br />The...  positive\n",
              "2  I thought this was a wonderful way to spend ti...  positive\n",
              "3  Basically there's a family where a little boy ...  negative\n",
              "4  Petter Mattei's \"Love in the Time of Money\" is...  positive"
            ]
          },
          "execution_count": 4,
          "metadata": {},
          "output_type": "execute_result"
        }
      ],
      "source": [
        "df.head()"
      ]
    },
    {
      "cell_type": "code",
      "execution_count": 5,
      "id": "b5d5c5ac",
      "metadata": {
        "id": "b5d5c5ac"
      },
      "outputs": [
        {
          "data": {
            "text/html": [
              "<div>\n",
              "<style scoped>\n",
              "    .dataframe tbody tr th:only-of-type {\n",
              "        vertical-align: middle;\n",
              "    }\n",
              "\n",
              "    .dataframe tbody tr th {\n",
              "        vertical-align: top;\n",
              "    }\n",
              "\n",
              "    .dataframe thead th {\n",
              "        text-align: right;\n",
              "    }\n",
              "</style>\n",
              "<table border=\"1\" class=\"dataframe\">\n",
              "  <thead>\n",
              "    <tr style=\"text-align: right;\">\n",
              "      <th></th>\n",
              "      <th>review</th>\n",
              "      <th>sentiment</th>\n",
              "    </tr>\n",
              "  </thead>\n",
              "  <tbody>\n",
              "    <tr>\n",
              "      <th>49995</th>\n",
              "      <td>I thought this movie did a down right good job...</td>\n",
              "      <td>positive</td>\n",
              "    </tr>\n",
              "    <tr>\n",
              "      <th>49996</th>\n",
              "      <td>Bad plot, bad dialogue, bad acting, idiotic di...</td>\n",
              "      <td>negative</td>\n",
              "    </tr>\n",
              "    <tr>\n",
              "      <th>49997</th>\n",
              "      <td>I am a Catholic taught in parochial elementary...</td>\n",
              "      <td>negative</td>\n",
              "    </tr>\n",
              "    <tr>\n",
              "      <th>49998</th>\n",
              "      <td>I'm going to have to disagree with the previou...</td>\n",
              "      <td>negative</td>\n",
              "    </tr>\n",
              "    <tr>\n",
              "      <th>49999</th>\n",
              "      <td>No one expects the Star Trek movies to be high...</td>\n",
              "      <td>negative</td>\n",
              "    </tr>\n",
              "  </tbody>\n",
              "</table>\n",
              "</div>"
            ],
            "text/plain": [
              "                                                  review sentiment\n",
              "49995  I thought this movie did a down right good job...  positive\n",
              "49996  Bad plot, bad dialogue, bad acting, idiotic di...  negative\n",
              "49997  I am a Catholic taught in parochial elementary...  negative\n",
              "49998  I'm going to have to disagree with the previou...  negative\n",
              "49999  No one expects the Star Trek movies to be high...  negative"
            ]
          },
          "execution_count": 5,
          "metadata": {},
          "output_type": "execute_result"
        }
      ],
      "source": [
        "df.tail()"
      ]
    },
    {
      "cell_type": "code",
      "execution_count": 6,
      "id": "469b9d2a",
      "metadata": {
        "id": "469b9d2a",
        "scrolled": true
      },
      "outputs": [
        {
          "data": {
            "text/plain": [
              "positive    25000\n",
              "negative    25000\n",
              "Name: sentiment, dtype: int64"
            ]
          },
          "execution_count": 6,
          "metadata": {},
          "output_type": "execute_result"
        }
      ],
      "source": [
        "df['sentiment'].value_counts()"
      ]
    },
    {
      "cell_type": "markdown",
      "id": "92c728f8",
      "metadata": {
        "id": "92c728f8"
      },
      "source": [
        "## Pre-processing"
      ]
    },
    {
      "cell_type": "code",
      "execution_count": 7,
      "id": "f2ce72ca",
      "metadata": {
        "id": "f2ce72ca"
      },
      "outputs": [],
      "source": [
        "def to_sentiment(rating):\n",
        "  if rating == 'positive':\n",
        "    return 1\n",
        "  else:\n",
        "    return 0\n",
        "df['sentiment'] = df.sentiment.apply(to_sentiment)"
      ]
    },
    {
      "cell_type": "markdown",
      "id": "5b8da4cd",
      "metadata": {},
      "source": [
        "### Preprocessing Function"
      ]
    },
    {
      "cell_type": "code",
      "execution_count": 8,
      "id": "1ec88d5b",
      "metadata": {},
      "outputs": [],
      "source": [
        "def processText(df):\n",
        "    processed_Reviews = []\n",
        "    for review in df.review:\n",
        "\n",
        "        # set all as lowercase\n",
        "        lowerCase = review.lower()\n",
        "\n",
        "        # tokenize\n",
        "        tokens = nltk.word_tokenize(lowerCase)\n",
        "\n",
        "        # remove punctuation\n",
        "        regex = re.compile(f'[{re.escape(string.punctuation)}]')\n",
        "        tokens_NoPunct = [regex.sub('', word) for word in tokens if not regex.sub('', word) == '']\n",
        "\n",
        "        # removing stopwords\n",
        "        stop_words = stopwords.words('english')\n",
        "        stop_words.append('via')\n",
        "        tokens_NoStopWords = [token for token in tokens_NoPunct if token not in stop_words]\n",
        "\n",
        "        # remove links\n",
        "        regex = re.compile('http\\S+')\n",
        "        tokens_NoLinks = [regex.sub('', word) for word in tokens_NoStopWords if not regex.sub('', word) == '' and not word.startswith('tc')]\n",
        "\n",
        "        # Lemmatizing\n",
        "        lemmatizer = WordNetLemmatizer()\n",
        "        lemmatized_words = [lemmatizer.lemmatize(word) for word in tokens_NoLinks]\n",
        "\n",
        "        # Detokenizing\n",
        "        untokenized = TreebankWordDetokenizer().detokenize(lemmatized_words)\n",
        "\n",
        "        processed_Reviews.append(untokenized)\n",
        "    return processed_Reviews"
      ]
    },
    {
      "cell_type": "code",
      "execution_count": 9,
      "id": "9ac9907e",
      "metadata": {},
      "outputs": [],
      "source": [
        "# processed_Reviews = processText(df)\n",
        "# df['processedReview'] = processed_Reviews"
      ]
    },
    {
      "cell_type": "code",
      "execution_count": 10,
      "id": "c14c2cdd",
      "metadata": {},
      "outputs": [
        {
          "data": {
            "text/html": [
              "<div>\n",
              "<style scoped>\n",
              "    .dataframe tbody tr th:only-of-type {\n",
              "        vertical-align: middle;\n",
              "    }\n",
              "\n",
              "    .dataframe tbody tr th {\n",
              "        vertical-align: top;\n",
              "    }\n",
              "\n",
              "    .dataframe thead th {\n",
              "        text-align: right;\n",
              "    }\n",
              "</style>\n",
              "<table border=\"1\" class=\"dataframe\">\n",
              "  <thead>\n",
              "    <tr style=\"text-align: right;\">\n",
              "      <th></th>\n",
              "      <th>review</th>\n",
              "      <th>sentiment</th>\n",
              "    </tr>\n",
              "  </thead>\n",
              "  <tbody>\n",
              "    <tr>\n",
              "      <th>0</th>\n",
              "      <td>One of the other reviewers has mentioned that ...</td>\n",
              "      <td>1</td>\n",
              "    </tr>\n",
              "    <tr>\n",
              "      <th>1</th>\n",
              "      <td>A wonderful little production. &lt;br /&gt;&lt;br /&gt;The...</td>\n",
              "      <td>1</td>\n",
              "    </tr>\n",
              "    <tr>\n",
              "      <th>2</th>\n",
              "      <td>I thought this was a wonderful way to spend ti...</td>\n",
              "      <td>1</td>\n",
              "    </tr>\n",
              "    <tr>\n",
              "      <th>3</th>\n",
              "      <td>Basically there's a family where a little boy ...</td>\n",
              "      <td>0</td>\n",
              "    </tr>\n",
              "    <tr>\n",
              "      <th>4</th>\n",
              "      <td>Petter Mattei's \"Love in the Time of Money\" is...</td>\n",
              "      <td>1</td>\n",
              "    </tr>\n",
              "  </tbody>\n",
              "</table>\n",
              "</div>"
            ],
            "text/plain": [
              "                                              review  sentiment\n",
              "0  One of the other reviewers has mentioned that ...          1\n",
              "1  A wonderful little production. <br /><br />The...          1\n",
              "2  I thought this was a wonderful way to spend ti...          1\n",
              "3  Basically there's a family where a little boy ...          0\n",
              "4  Petter Mattei's \"Love in the Time of Money\" is...          1"
            ]
          },
          "execution_count": 10,
          "metadata": {},
          "output_type": "execute_result"
        }
      ],
      "source": [
        "df.head()"
      ]
    },
    {
      "cell_type": "markdown",
      "id": "b4c495d7",
      "metadata": {
        "id": "b4c495d7"
      },
      "source": [
        "## Data Split\n"
      ]
    },
    {
      "cell_type": "markdown",
      "id": "c7d98ddb",
      "metadata": {
        "id": "c7d98ddb"
      },
      "source": [
        "#### Train Test Validation Split"
      ]
    },
    {
      "cell_type": "code",
      "execution_count": 11,
      "id": "db7715f0",
      "metadata": {
        "id": "db7715f0"
      },
      "outputs": [
        {
          "name": "stdout",
          "output_type": "stream",
          "text": [
            "1    17500\n",
            "0    17500\n",
            "Name: sentiment, dtype: int64\n",
            "0    2500\n",
            "1    2500\n",
            "Name: sentiment, dtype: int64\n",
            "0    5000\n",
            "1    5000\n",
            "Name: sentiment, dtype: int64\n"
          ]
        }
      ],
      "source": [
        "X = df.drop(columns='sentiment')\n",
        "y = df['sentiment']\n",
        "\n",
        "\n",
        "X_train, X_test, y_train, y_test = train_test_split(X, y, test_size=0.2, random_state=123, stratify= y)\n",
        "X_train, X_val, y_train, y_val = train_test_split(X_train, y_train, test_size=0.125, random_state=123, stratify= y_train)\n",
        "\n",
        "\n",
        "print(y_train.value_counts())\n",
        "print(y_val.value_counts())\n",
        "print(y_test.value_counts())"
      ]
    },
    {
      "cell_type": "markdown",
      "id": "9af441b7",
      "metadata": {},
      "source": [
        "### Checking lengths of reviews"
      ]
    },
    {
      "cell_type": "code",
      "execution_count": 12,
      "id": "QHYigbnkwa-L",
      "metadata": {
        "id": "QHYigbnkwa-L"
      },
      "outputs": [],
      "source": [
        "# PRE_TRAINED_MODEL_NAME = 'bert-base-uncased'\n",
        "# tokenizer = BertTokenizer.from_pretrained(PRE_TRAINED_MODEL_NAME)"
      ]
    },
    {
      "cell_type": "code",
      "execution_count": 13,
      "id": "Qpki1X-SwPoJ",
      "metadata": {
        "id": "Qpki1X-SwPoJ"
      },
      "outputs": [
        {
          "name": "stderr",
          "output_type": "stream",
          "text": [
            "Truncation was not explicitly activated but `max_length` is provided a specific value, please use `truncation=True` to explicitly truncate examples to max length. Defaulting to 'longest_first' truncation strategy. If you encode pairs of sequences (GLUE-style) with the tokenizer you can select this strategy more precisely by providing a specific strategy to `truncation`.\n"
          ]
        }
      ],
      "source": [
        "# tokens_lens = []\n",
        "\n",
        "# for txt in df.review:\n",
        "#   tokens = tokenizer.encode(txt, max_length = 512)\n",
        "#   tokens_lens.append(len(tokens))"
      ]
    },
    {
      "cell_type": "code",
      "execution_count": 14,
      "id": "kChO3Ng7yzRB",
      "metadata": {
        "id": "kChO3Ng7yzRB"
      },
      "outputs": [
        {
          "name": "stderr",
          "output_type": "stream",
          "text": [
            "D:\\Users\\Ahmad\\AppData\\Local\\Programs\\Python\\Python39\\lib\\site-packages\\seaborn\\distributions.py:2619: FutureWarning: `distplot` is a deprecated function and will be removed in a future version. Please adapt your code to use either `displot` (a figure-level function with similar flexibility) or `histplot` (an axes-level function for histograms).\n",
            "  warnings.warn(msg, FutureWarning)\n"
          ]
        },
        {
          "data": {
            "image/png": "[encoded data removed]",
            "text/plain": [
              "<Figure size 432x288 with 1 Axes>"
            ]
          },
          "metadata": {
            "needs_background": "light"
          },
          "output_type": "display_data"
        }
      ],
      "source": [
        "# sns.distplot(tokens_lens)\n",
        "# plt.xlim([0, 512]);\n",
        "# plt.xlabel('Token count');"
      ]
    },
    {
      "cell_type": "markdown",
      "id": "6ca7e8f8",
      "metadata": {
        "id": "6ca7e8f8"
      },
      "source": [
        "# Classification Using BERT"
      ]
    },
    {
      "cell_type": "markdown",
      "id": "c6b77999",
      "metadata": {
        "id": "c6b77999"
      },
      "source": [
        "### Custom Dataset Class & Dataloader Function"
      ]
    },
    {
      "cell_type": "code",
      "execution_count": 15,
      "id": "ddbcb4ae",
      "metadata": {
        "id": "ddbcb4ae"
      },
      "outputs": [],
      "source": [
        "class IMDBReviewsDataset(Dataset):\n",
        "\n",
        "  def __init__(self, reviews, targets, tokenizer, max_len):\n",
        "    self.reviews = reviews\n",
        "    self.targets = targets\n",
        "    self.tokenizer = tokenizer\n",
        "    self.max_len = max_len\n",
        "\n",
        "  def __len__(self):\n",
        "    return len(self.reviews)\n",
        "\n",
        "  def __getitem__(self, item):\n",
        "    review = self.reviews[item]\n",
        "    target = self.targets[item]\n",
        "    encoding = self.tokenizer.encode_plus(\n",
        "        review,\n",
        "        add_special_tokens = True,\n",
        "        max_length = self.max_len,\n",
        "        padding = 'max_length',\n",
        "        truncation = True,\n",
        "        return_attention_mask = True,\n",
        "        return_token_type_ids = False,\n",
        "        return_tensors = 'pt',\n",
        "    )\n",
        "\n",
        "    return {\n",
        "      'review_text': review,\n",
        "      'input_ids': encoding['input_ids'].flatten(),\n",
        "      'attention_mask': encoding['attention_mask'].flatten(),\n",
        "      'targets': torch.tensor(target, dtype=torch.long)\n",
        "    }\n",
        "\n",
        "\n",
        "def create_data_loader(features, classification, tokenizer, max_len, batch_size, reviewType):\n",
        "\n",
        "  if reviewType == 0:\n",
        "    reviews = features.review.to_numpy()\n",
        "  else:\n",
        "    reviews = features.processedReview.to_numpy()\n",
        "\n",
        "  dataset = IMDBReviewsDataset(\n",
        "      reviews = reviews,\n",
        "      targets = classification.to_numpy(),\n",
        "      tokenizer = tokenizer,\n",
        "      max_len = max_len\n",
        "  )\n",
        "  return DataLoader(\n",
        "      dataset,\n",
        "      batch_size = batch_size,\n",
        "      num_workers = 0\n",
        "  )"
      ]
    },
    {
      "cell_type": "markdown",
      "id": "c3330399",
      "metadata": {
        "id": "c3330399"
      },
      "source": [
        "#### Creating Dataloaders"
      ]
    },
    {
      "cell_type": "code",
      "execution_count": 16,
      "id": "bc4128db",
      "metadata": {
        "id": "bc4128db"
      },
      "outputs": [],
      "source": [
        "PRE_TRAINED_MODEL_NAME = 'bert-base-cased'\n",
        "tokenizer = BertTokenizer.from_pretrained(PRE_TRAINED_MODEL_NAME)\n",
        "\n",
        "train_data_loader = create_data_loader(X_train, y_train, tokenizer, 50, 16, 0)\n",
        "val_data_loader = create_data_loader(X_val, y_val, tokenizer, 50, 16, 0)\n",
        "test_data_loader = create_data_loader(X_test, y_test, tokenizer, 50, 16, 0)"
      ]
    },
    {
      "cell_type": "code",
      "execution_count": 17,
      "id": "b49c8011",
      "metadata": {},
      "outputs": [
        {
          "name": "stdout",
          "output_type": "stream",
          "text": [
            "[\"league of gentleman has been the most disturbing British sitcom to be on t.v and how can a funny movie be so bad rated,they just have no taste this film will make you want to watch over and over again and still find it funny.<br /><br />it is surprising that it has done bad but it is British the cinema do crap most of the time but this time it (in my words) a boost with comedy with a giraffe spunks over Lady's, this is a top British comedy and better than dodge-ball, so by this and it won't prove you wrong as i don't really laugh through films but this film was amazing through comedy with the best characters but i was a bit disappointed of how much Edward and Tabb's were in there for back to typing buy this film and it won't disappoint you.\", \"This movie had an interesting cast, it mat not have had an a list cast but the actors that were in this film did a good job. Im glad we have b grade movies like this one, the story is basic the actors are basic and so is the way they execute it, you don't need a million dollar budget to make a film just a mix of b list ordinary actors and a basic plot. I like the way they had the street to themselves and that there was no one else around and also what i though was interesting is that they didn't close down a café to set there gear and that they did it all from a police station. Arnold vosloo and Michael madsen did a great job at portraying there roles in the hostage situation. This was a great film and i hope to see more like it in the near future.\", \"Normally I wouldn't go to the trouble of commenting on a horror movie sequel, because it's usually assumed that they're BAD, and if you watch them with a healthy disrespect, they can be very fun and enjoyable to taunt/laugh at. However, this chapter of the ongoing Halloween saga came close to gumbing up everything the original stood for. In the very first movie, Dr. Loomis said (very pointedly I might add), that Michael Myers was evil, and this tries to explain why (doing a bad job of it I might add). In my opinion, he was much scarier when he was just a blood hungry freak. The whole goth/cult thing was unnecessary and a desperate attempt to throw a new curve into the Halloween equation. The result was a boring, predictable movie that was not scary and not bad enough to be funny.\", 'I love dissing this movie. My peers always try their best to defend it, probably out of love for Quentin Tarantino or Harvey Keitel, but they\\'ll never convince me that this one should be treasured. Here\\'s some huge reasons why: A: The plot goes from kidnapping road trip movie to vampire-inhabited strip bar slasher flick with no set-up whatsoever. Suddenly something very real turns into something very fake, which is like sitting the audience down to a Thanksgiving feast then exploding it with dynamite. B: That untalented Juliette Lewis is in it. C: Preposterous ideas abound such as actual torso-and-leg guitars, brothers with the last name \"Gecko,\" bad vampire make-up jobs, Cheech Marin playing three characters (?), and a crotch-based gun that only fires when \"erect\" and belongs to a guy who goes by \"Sex Machine.\" If Robert Rodriguez didn\\'t pathetically try to be so innovative with his violence, I might\\'ve had fun with this obvious popcorn flick. The whole project\\'s like he got the ideas by playing with action figures. The only thing even close to being considered my favorite scene is George Clooney\\'s laugh-out-loud cheesy monologue after he kills his blood-sucking, horny-for-children, terrible-acting brother. I swear I think they thought it up right then and there. This movie\\'s out to offend, and ends up offending those who want the offensive. Horrible movie.', 'The power rangers is definitely the worst television show and completely ridiculous plastic toy line in the history of the United States.<br /><br />There is absolutely nothing even remotely entertaining about this completely awful television show.<br /><br />This is simply the worst show ever made, with awful actors, dressing up in multi colored spandex outfits that look completely ridiculous.<br /><br />The owners of this show should be ashamed of themselves, since there is no redeeming value to this nonsense.<br /><br />Kids of today should try watching better shows like the Toy Story movies instead of this garbage.', \"What a terrible misfire. Not only the title but the idea is the same as that Jane Fonda, George Segal vehicle of a few decades ago. Why? I wonder, someone with the clout of Jim Carrey will, not only star, but also produce this tired, ugly, pointless excuse for a comedy. He could be taking comedy to a whole new level, instead, he goes for what he may assume is safe territory. Money, money, grosses, Christmas. But I'm sure this uncomfortable mess will have very short legs. I call it uncomfortable because that's how I felt. Aware as I was of the desperate attempts tried out on the screen to be funny. And failing, miserably. It could have been an outrageous, politically incorrect, mirror comedy of the post Enron days but no, that would be pointing too high, too risky. What a shame!\", \"Okay, When I bought this flick I though this gotta be the ultimate b-movie, space monkey landing to the Earth and starts right away to kill people! <br /><br />Well, It was almost everything what I expected, typical low-budget scifi movie from the 60's. Acting has to be the worst I've ever seen, especially the girl playing the lead role and the girl that played the waitress made me laughing my ass off. <br /><br />So why 'Night Fright' doesn't fall in to category 'so bad that it's good'? Reason why is that some of the scenes were just too long and boring. For example the scene were the police officers are searching clues in the woods it was just minutes of walking without purpose. And then the grand finale, the people's waiting for the monster about 5 minutes and when the space monkey appears it get wack'd in 20 second, end of film.<br /><br />Yeah, 'Night Fright' is boring, but it got couple of funny moments. I can recommend this movie to all who liked films like 'Zontar, the Thing from Venus' or 'Curse of the Swamp Creature'.<br /><br />I give 'Night Fright' 4 Space Monkey slaps out of 10..<br /><br />-Rob Gruesome-\", 'I\\'m a fan of good, plausible, action movies. And I\\'m a huge fan of the elite military units such as the Navy SEALs. Finally, I\\'m a huge fan of Michael Biehn. Sadly none of those allowed me to really enjoy this movie at the time. I gave it another chance more recently when I bought the DVD. Here\\'s the problems with this movie in a quick list: 1. It\\'s a poor mans top gun, for example including a virtual music video of the SEAL team playing golf with a soundtrack of \"The Boys are Back In Town\", which concludes with Charlie Sheen doing an inane chase to get his towed car back.<br /><br />2. This is quite simply a Charlie Sheen movie, when Sheen was trying to be famous before he started doing stuff like Hot Shots. Reports I\\'ve heard indicate that Sheen was a baby on the set and it affected the roles and Direction the rest of the actors in the movie got.<br /><br />3. Biehn is the head of the SEAL team yet Sheen seldom obeys him. Any SEAL showing the lack of discipline that Sheen\\'s character does, or who endangered the team as he does, wouldn\\'t even have made it through BUDS training let alone gotten on a team.<br /><br />4. SEALs are cross trained on weapons. Yet in one part of the movie a SEAL has to \"figure out\" how to use a U.S. Stinger Missile.<br /><br />There are a few good scenes in the movie. The assault entry at the beginning, Bill Paxton as \"God\", and some of the footage in what was supposed to be Beirut at the time. Overall though this movie is a loser.', \"For the 1980s, this is a very dark movie. At this point, filmmakers were beginning to operate under the assumption that all films require smarmy comic relief (which, of course, is taken to the extreme today), flashy action scenes (even more overdone today), or steamy sex scenes.<br /><br />Hutton and Penn are stupendous in their roles as childhood friends turned Soviet spies. Penn in particular is brilliant as hapless drug dealer Daulton Lee.<br /><br />What you have here is a true thriller/drama. There is no eye candy to speak of, but the story is so compelling and the acting so superb that (hopefully) most people wouldn't miss it. There are a couple amusing scenes, in particular the one where Penn tries to get his Soviet benefactors involved in a major drugrunning deal.<br /><br />Well worth watching.\", 'While not truly terrible, this movie is still largely a waste of time, and paints an incredibly inaccurate and revisionist picture of Beach Boys history.<br /><br />Basically, this movie would have you believe that Mike Love was the brains behind the band and Brian Wilson was just a pathetic psycho. In fact, none of the characters is developed beyond a one-dimensional parody, but this is a TV movie so what do you expect? Mike Love\\'s foul stench is all over this turkey as he attempts to re-write history with himself in the role of band figurehead and resident genius. Yeah, as if...<br /><br />On the plus side, the music is excellent. Unlike the previous Beach Boys made-for-TV bio-pic \"Summer Dreams\", this movie actually features real Beach Boys music, rather than anemic cover versions...Also, it features a surprising number of Beach Boys-related rarities and seldom-heard tracks - The Sunrays \"I Live for the Sun\" being but one example.<br /><br />This movie was originally shown in two parts on American network TV. Part one is the superior of the two and documents the Boys early days and rise to the top. By the time part two rolls around, the Brian Wilson character has become a mere cartoon and the actor seems to be playing for laughs - but how could anyone take this crap seriously? If you\\'re not a Beach Boys fan you probably won\\'t get much out of this movie except an extremely warped and one-sided view of the band\\'s history. But then again, why would you watch this if you weren\\'t a fan?', \"This movie is almost never seen today - the only reason I can enjoy it again and again is from a slightly worn out VHS copy I made when the film was shown on TV in 1991 here in England.<br /><br />An ensemble cast are obviously enjoying themselves and this is reflected to the viewer. A razor sharp script helps things along, and once you've seen this you will want to watch it over and over again.<br /><br />Wayne Rogers is the 'star' but everyone contributes to a great film, with a great jazz soundtrack to boot. There are emotional moments during the film, but never to the point of sickly sweet sentimentalism - these are guys on the trip of a lifetime, and they convey that excitement wonderfully.<br /><br />Highly recommended if you can actually get to see it.\", \"I love sharks. And mutants. And explosions. Theoretically, with those parameters in mind, HAMMERHEAD: Shark Frenzy should have been the best movie ever.<br /><br />It is not.<br /><br />The monster looks like a villain from Power Rangers, and has approximately the same range of rubbery movement. This might be okay if the makers weren't quite as proud of its design as they seem to be. That is to say, for a guy in a big rubber suit in an action/scifi/horror flick that could benefit from some mystery, the shark gets a lot of screen time. Granted, it is usually shaky and erratic. I guess you're supposed to assume that it's so scary that even the camera guy freaks out.<br /><br />The camera goes to a person about to get eaten, the camera goes to the shark. The camera goes back to the person about to get eaten, only now they are screaming and armless. And so on.<br /><br />The costuming is bad, the acting is poor, and the special effects are sub-par, but the writing is by far the worst. Things happen completely randomly so that more people can be eaten, or so something can explode. Because LET ME TELL YOU, the people who made this movie definitely went in with a more explosions = more better mindset. Characters shoot cars and there is a massive explosion. They shoot helicopters, there is a massive explosion. Barrels, rocks, trees, WHATEVER, they all explode, so much so that the freaking shark even explodes at the end.<br /><br />Speaking of which, I don't care how crazy a person is, I find it hard to believe that anyone would think trying to make a giant half-person half-shark have sex with a woman in order to make freaky shark people babies is a good idea. That is, UNLESS that person is the mad scientist in this movie.<br /><br />The bad thing is, the movie is so random (and at times, boring) that even its badness is not really enough to hold a person's prolonged interest. It might be a good one to MST3K with your friends, but past that, if you happen to catch this bad boy on, do yourself a favor and change the channel.\", 'First up this film, according to the slick said it won \"best film\" at \"Worldfest\" Film festival in Houston, Texas. Hmmm must have been a quiet year.<br /><br />Wouldn\\'t call this the worst film ever but it certainly sucks, is pretty much just as terrible as other Aussie B grader \"Body Melt\", but at least that film didn\\'t look like it was shot on HI 8 video.<br /><br />My guess is the film makers, watched a lot of Troma films, and really bad B grade gore films, thinking that they too could crack into the business releasing this film.<br /><br />Don\\'t get me wrong, I love really low grade films, Just the fact that some of the characters put on fake American accents, almost as if doing so would give them more chance to sell it in the states or something. Really disappointing ending as well, the showdown could have been way more exciting, and some good fight scenes. You can completely see that the film makers are trying to copy \"Bad Taste\" with the whole, car explosion, rocket launcher, and endless amount of people being gunned down, yet the finale lacks any over the top humour, or style like \"bad taste\".<br /><br />If you like watching really bad gore films, or are interested in no-budget film making, watch it, otherwise stay away.', \"I'm no horror movie buff, but my wife's nieces and nephews are. So, I saw the first movie. It was gruesome, and tense, but not my taste. Still good though. For similar reasons, at this very moment, I am being exposed to a sequel.<br /><br />The premise itself is beyond absurd. I can buy that disasters occur in the desert. I can buy that mutants exists. I can even buy that the events might be so weird and strange that the military may decide to get involved. It is unlikely, yes, but I'm willing to suspend my belief.<br /><br />HOWEVER, under no circumstances am I willing to believe that the military squad assigned to recon such an area would be unable to fend off the mutants. Being a member of the United States Army, I can assure that while fresh recruits may lack the seasoned eyes and experience of combat soldiers, any such recruits would be integrated into a capable squad.<br /><br />A squad of armed soldiers is not about to be taken out by a few mutants with knives. That's just the way it works. Squad movements, vastly superior firepower, and of course, radio support, would ensure nothing less than total victory. I'm not saying you wouldn't have casualties, but as soon as the area was verified as hostile, military training would take precedence, no-one would go off on their own even to use the bathroom.<br /><br />And if it were discovered that the area was so infested with hostiles that the squad was unable to handle the danger, they would radio in for backup. And believe me, their radios would not be jammed, if there was a chance that normal radios would not do, the squad would have a military issue satellite phone. Chances are, if they were unable to check in every hour, a search would be called.<br /><br />In order to accept this movie, you must accept that our soldiers are incompetent fools, with incompetent leaders, and an incompetent chain of command. While it may still be true that the most dangerous thing in the world is a lieutenant with a map and compass, our military forces are filled with intelligent, well-trained, competent soldiers. Mutants with knives are far below our ability to deal with.<br /><br />With the whole execution of the movie depending solidly on the impossible to imagine, the film fails to deliver. Instead, we are expected to believe that our soldiers, sailors, and airmen are incapable of dealing with even the most mediocre threats.<br /><br />As a combat veteran, I find the movie insulting.\", 'Man, if anyone was expecting a great zombie movie after reading that title, then you are a retard and you deserve to be disappointed. As for myself, I was expecting a low-budgeted cheeseball zombie flick- and that\\'s exactly what I got. I wasn\\'t disappointed at all. I thought it was a cool little movie. The zombies were exactly as they should be, because all of the zombies had JUST been turned, so they are freshly-undead zombies. Obviously they did that because it would\\'ve been pretty costly if they had done full-on rotted zombie FX. I understood the whole thing, I have no idea how anyone could seriously nitpick this movie. It\\'s called \"HOOD OF THE LIVING DEAD\" for the love of God! Would you watch \"Redneck Zombies\" and ANY Uwe Boll movie and actually EXPECT it to be great? Of course not! So why there are some morons on IMDb whining like school girls about this movie, I\\'ll never understand. Oh and YES, there ARE worse movies out there, so stop saying that this was the worst you\\'ve ever seen, \\'cause you know you\\'re full of it! You ever watch \"ZOMBIEZ\"???? Or \"Feardotcom\"????? Or \"House Of The Dead\"???? THOSE are some of the worst I\\'ve ever seen. If you can\\'t see that it\\'s just a low- budgeted zombie movie obviously made by zombie movie fans, then something\\'s wrong with you. I just had fun with it. Thumbs up from me and I\\'d also like to see a sequel.', \"I love watching Australian movies but this steaming pile of crap was just plain embarrassing. The DVD cover looked promising but you know what they say, don't judge a DVD by it's cover. <br /><br />I also noticed that it won Best Actor for an award but the competition must have been really bad because the acting in this film is pathetic. It just seemed that the director thought he had enough talent to direct and act when he should really focus on one part of film-making and get it right before spreading himself too thin. The music was pretty ordinary. The story really didn't go anywhere. It was just a sequence of fights strung together with poor script and cheesy dialogue.<br /><br />I will say this to all aspiring filmmakers though. Watch this film. It will give you hope that your film will win something at some festival.<br /><br />However, good on them for getting in there and having a go. Hope they learned some lessons and their next venture is a little better.\"]\n"
          ]
        }
      ],
      "source": [
        "# data = next(iter(train_data_loader))\n",
        "# data.keys()\n",
        "\n",
        "# print(data['review_text'])"
      ]
    },
    {
      "cell_type": "markdown",
      "id": "cfcd2da8",
      "metadata": {
        "id": "cfcd2da8"
      },
      "source": [
        "### Classification"
      ]
    },
    {
      "cell_type": "markdown",
      "id": "4cdd1291",
      "metadata": {
        "id": "4cdd1291"
      },
      "source": [
        "##### Classifier NN Module"
      ]
    },
    {
      "cell_type": "code",
      "execution_count": 18,
      "id": "d2a3e005",
      "metadata": {
        "id": "d2a3e005"
      },
      "outputs": [
        {
          "name": "stdout",
          "output_type": "stream",
          "text": [
            "cuda:0\n"
          ]
        }
      ],
      "source": [
        "device = torch.device(\"cuda:0\" if torch.cuda.is_available() else \"cpu\")\n",
        "print(device)\n",
        "\n",
        "class SentimentClassifier(nn.Module):\n",
        "\n",
        "  def __init__(self, n_classes):\n",
        "    super(SentimentClassifier, self).__init__()\n",
        "\n",
        "\n",
        "    self.bert = BertModel.from_pretrained(PRE_TRAINED_MODEL_NAME)\n",
        "    self.drop = nn.Dropout(p=0.3)\n",
        "    \n",
        "    self.out = nn.Sequential(\n",
        "      nn.Linear(768, 512),\n",
        "      nn.ReLU(),\n",
        "      nn.Linear(512, 256),\n",
        "      nn.ReLU(),\n",
        "      nn.Linear(256, 128),\n",
        "      nn.ReLU(),\n",
        "      nn.Linear(128, 64),\n",
        "      nn.ReLU(),\n",
        "      nn.Linear(64, n_classes),\n",
        "    )\n",
        "\n",
        "  def forward(self, input_ids, attention_mask):\n",
        "    bm = self.bert(\n",
        "      input_ids=input_ids,\n",
        "      attention_mask=attention_mask,\n",
        "      \n",
        "    )\n",
        "    output = self.drop(bm['pooler_output'])\n",
        "    return self.out(output)"
      ]
    },
    {
      "cell_type": "markdown",
      "id": "ffQHUy7lRdV-",
      "metadata": {
        "id": "ffQHUy7lRdV-"
      },
      "source": [
        "##### Model Training"
      ]
    },
    {
      "cell_type": "code",
      "execution_count": 19,
      "id": "Nqr3kE2fQnTg",
      "metadata": {
        "id": "Nqr3kE2fQnTg"
      },
      "outputs": [
        {
          "name": "stderr",
          "output_type": "stream",
          "text": [
            "Some weights of the model checkpoint at bert-base-cased were not used when initializing BertModel: ['cls.seq_relationship.weight', 'cls.predictions.transform.dense.weight', 'cls.predictions.decoder.weight', 'cls.predictions.transform.dense.bias', 'cls.predictions.bias', 'cls.seq_relationship.bias', 'cls.predictions.transform.LayerNorm.weight', 'cls.predictions.transform.LayerNorm.bias']\n",
            "- This IS expected if you are initializing BertModel from the checkpoint of a model trained on another task or with another architecture (e.g. initializing a BertForSequenceClassification model from a BertForPreTraining model).\n",
            "- This IS NOT expected if you are initializing BertModel from the checkpoint of a model that you expect to be exactly identical (initializing a BertForSequenceClassification model from a BertForSequenceClassification model).\n"
          ]
        }
      ],
      "source": [
        "model = SentimentClassifier(2)\n",
        "model = model.to(device)\n",
        "\n",
        "EPOCHS = 5\n",
        "\n",
        "optimizer = optim.Adam(model.parameters(), lr=2e-5)\n",
        "total_steps = len(train_data_loader) * EPOCHS\n",
        "\n",
        "scheduler = get_linear_schedule_with_warmup(optimizer, num_warmup_steps = 0, num_training_steps = total_steps)\n",
        "\n",
        "loss_fn = nn.CrossEntropyLoss().to(device)"
      ]
    },
    {
      "cell_type": "code",
      "execution_count": 20,
      "id": "eyY6iLEoRUw6",
      "metadata": {
        "id": "eyY6iLEoRUw6"
      },
      "outputs": [],
      "source": [
        "def train_epoch(model, data_loader, loss_fn, optimizer, device, scheduler, n_examples):\n",
        "  model = model.train()\n",
        "  losses = []\n",
        "  correct_predictions = 0\n",
        "\n",
        "  for d in data_loader:\n",
        "    input_ids = d['input_ids'].to(device)\n",
        "    attention_mask = d['attention_mask'].to(device)\n",
        "    targets = d['targets'].to(device)\n",
        "\n",
        "    outputs = model(\n",
        "        input_ids = input_ids,\n",
        "        attention_mask = attention_mask\n",
        "    )\n",
        "\n",
        "\n",
        "    \n",
        "    _,preds = torch.max(outputs, dim=1)\n",
        "    \n",
        "    loss = loss_fn(outputs,targets)\n",
        "\n",
        "    correct_predictions += torch.sum(preds == targets)\n",
        "    \n",
        "    losses.append(loss.item())\n",
        "  \n",
        "    loss.backward()\n",
        "    nn.utils.clip_grad_norm_(model.parameters(), max_norm=1.0)\n",
        "    optimizer.step()\n",
        "    scheduler.step()\n",
        "    optimizer.zero_grad()\n",
        "\n",
        "    last_lr = scheduler.get_last_lr()\n",
        "\n",
        "  return correct_predictions.double() / n_examples , np.mean(losses), last_lr\n"
      ]
    },
    {
      "cell_type": "code",
      "execution_count": 21,
      "id": "u7K4sJx2TOrB",
      "metadata": {
        "id": "u7K4sJx2TOrB"
      },
      "outputs": [],
      "source": [
        "def eval_model(model, data_loader, loss_fn, device, n_examples):\n",
        "  model = model.eval()\n",
        "  losses = []\n",
        "  correct_predictions = 0\n",
        "  with torch.no_grad():\n",
        "\n",
        "    for d in data_loader:\n",
        "      input_ids = d[\"input_ids\"].to(device)\n",
        "      attention_mask = d[\"attention_mask\"].to(device)\n",
        "      targets = d[\"targets\"].to(device)\n",
        "\n",
        "      outputs = model(\n",
        "        input_ids=input_ids,\n",
        "        attention_mask=attention_mask\n",
        "      )\n",
        "\n",
        "      _,preds = torch.max(outputs, dim=1)\n",
        "      loss = loss_fn(outputs, targets)\n",
        "\n",
        "      correct_predictions += torch.sum(preds == targets)\n",
        "      losses.append(loss.item())\n",
        "\n",
        "  return correct_predictions.double() / n_examples, np.mean(losses)"
      ]
    },
    {
      "cell_type": "code",
      "execution_count": 22,
      "id": "a4799610",
      "metadata": {},
      "outputs": [],
      "source": [
        "gc.collect()\n",
        "\n",
        "torch.cuda.empty_cache()"
      ]
    },
    {
      "cell_type": "code",
      "execution_count": 23,
      "id": "Bq5zj7R-TsNs",
      "metadata": {
        "id": "Bq5zj7R-TsNs"
      },
      "outputs": [
        {
          "name": "stdout",
          "output_type": "stream",
          "text": [
            "Epoch 1 / 5\n",
            "----------\n",
            "Train loss 0.5008967168853913 accuracy 0.7549142857142856\n",
            "Val   loss 0.44066627863973096 accuracy 0.7994\n",
            "Epoch 2 / 5\n",
            "----------\n",
            "Train loss 0.33562049862266374 accuracy 0.8587714285714285\n",
            "Val   loss 0.5264387640138023 accuracy 0.8062\n",
            "Epoch 3 / 5\n",
            "----------\n",
            "Train loss 0.22940418683716063 accuracy 0.9226571428571428\n",
            "Val   loss 0.716810538400762 accuracy 0.8124\n",
            "Epoch 4 / 5\n",
            "----------\n",
            "Train loss 0.1577919986519547 accuracy 0.9570285714285715\n",
            "Val   loss 0.8248243194918472 accuracy 0.8160000000000001\n",
            "Epoch 5 / 5\n",
            "----------\n",
            "Train loss 0.11052741003763339 accuracy 0.9740285714285714\n",
            "Val   loss 0.8639975015309077 accuracy 0.8166\n"
          ]
        }
      ],
      "source": [
        "\n",
        "history = defaultdict(list)\n",
        "best_accuracy = 0\n",
        "\n",
        "\n",
        "for epoch in range(EPOCHS):\n",
        "  print('Epoch', epoch + 1,'/', EPOCHS)\n",
        "  print('----------')\n",
        "\n",
        "  train_acc, train_loss, last_lr = train_epoch(model, train_data_loader, loss_fn, optimizer, device, scheduler, len(X_train))\n",
        "  print(f'Train loss {train_loss} accuracy {train_acc}')\n",
        "\n",
        "  val_acc, val_loss = eval_model(model, val_data_loader, loss_fn, device, len(X_val))\n",
        "  print(f'Val   loss {val_loss} accuracy {val_acc}')\n",
        "\n",
        "  history['train_acc'].append(train_acc)\n",
        "  history['train_loss'].append(train_loss)\n",
        "  history['val_acc'].append(val_acc)\n",
        "  history['val_loss'].append(val_loss)\n",
        "  history['learn_rate'].append(last_lr)\n",
        "\n",
        "  if val_acc > best_accuracy:\n",
        "    torch.save(model.state_dict(), 'best_model_state.bin')\n",
        "    best_accuracy = val_acc"
      ]
    },
    {
      "cell_type": "code",
      "execution_count": 24,
      "id": "b2f472f2",
      "metadata": {},
      "outputs": [],
      "source": [
        "historyCopy = history\n",
        "trainAccuracyValues = []\n",
        "valAccuracyValues = []\n",
        "for tensor in historyCopy['train_acc']:\n",
        "    trainAccuracyValues.append(tensor.item())\n",
        "\n",
        "for tensor in historyCopy['val_acc']:\n",
        "    valAccuracyValues.append(tensor.item())\n",
        "\n"
      ]
    },
    {
      "cell_type": "code",
      "execution_count": 25,
      "id": "b364fa8f",
      "metadata": {},
      "outputs": [
        {
          "data": {
            "text/plain": [
              "(0.7, 1.0)"
            ]
          },
          "execution_count": 25,
          "metadata": {},
          "output_type": "execute_result"
        },
        {
          "data": {
            "image/png": "[encoded data removed]",
            "text/plain": [
              "<Figure size 432x288 with 1 Axes>"
            ]
          },
          "metadata": {
            "needs_background": "light"
          },
          "output_type": "display_data"
        }
      ],
      "source": [
        "\n",
        "plt.plot(trainAccuracyValues, label='train accuracy')\n",
        "plt.plot(valAccuracyValues, label='validation accuracy')\n",
        "\n",
        "plt.title('Training history')\n",
        "plt.ylabel('Accuracy')\n",
        "plt.xlabel('Epoch')\n",
        "plt.legend()\n",
        "plt.ylim([0.7, 1])"
      ]
    },
    {
      "cell_type": "code",
      "execution_count": null,
      "id": "cb5b8675",
      "metadata": {},
      "outputs": [],
      "source": [
        "lrHistory = []\n",
        "for tensor in historyCopy['learn_rate']:\n",
        "    lrHistory.append(tensor.item())\n",
        "plt.plot(lrHistory, label='Learning Rates')\n",
        "plt.ylim = [0, 1]"
      ]
    },
    {
      "cell_type": "markdown",
      "id": "d8197ab4",
      "metadata": {},
      "source": [
        "### Results"
      ]
    },
    {
      "cell_type": "code",
      "execution_count": 26,
      "id": "58d8ae4c",
      "metadata": {},
      "outputs": [],
      "source": [
        "def get_predictions(model, data_loader):\n",
        "  model = model.eval()\n",
        "  review_texts = []\n",
        "  predictions = []\n",
        "  prediction_probs = []\n",
        "  real_values = []\n",
        "\n",
        "  with torch.no_grad():\n",
        "    for d in data_loader:\n",
        "      texts = d[\"review_text\"]\n",
        "      input_ids = d[\"input_ids\"].to(device)\n",
        "      attention_mask = d[\"attention_mask\"].to(device)\n",
        "      targets = d[\"targets\"].to(device)\n",
        "      \n",
        "      outputs = model(\n",
        "        input_ids=input_ids,\n",
        "        attention_mask=attention_mask\n",
        "      )\n",
        "      _, preds = torch.max(outputs, dim=1)\n",
        "      review_texts.extend(texts)\n",
        "      predictions.extend(preds)\n",
        "      prediction_probs.extend(outputs)\n",
        "      real_values.extend(targets)\n",
        "      \n",
        "  predictions = torch.stack(predictions).cpu()\n",
        "  prediction_probs = torch.stack(prediction_probs).cpu()\n",
        "  real_values = torch.stack(real_values).cpu()\n",
        "  return review_texts, predictions, prediction_probs, real_values"
      ]
    },
    {
      "cell_type": "code",
      "execution_count": 27,
      "id": "a7eb907e",
      "metadata": {},
      "outputs": [
        {
          "name": "stdout",
          "output_type": "stream",
          "text": [
            "              precision    recall  f1-score   support\n",
            "\n",
            "    negative       0.81      0.81      0.81      5000\n",
            "    positive       0.81      0.81      0.81      5000\n",
            "\n",
            "    accuracy                           0.81     10000\n",
            "   macro avg       0.81      0.81      0.81     10000\n",
            "weighted avg       0.81      0.81      0.81     10000\n",
            "\n"
          ]
        }
      ],
      "source": [
        "y_review_texts, y_pred, y_pred_probs, y_test = get_predictions(model, test_data_loader)\n",
        "\n",
        "class_names = ['negative', 'positive']\n",
        "print(classification_report(y_test, y_pred, target_names=class_names))"
      ]
    },
    {
      "cell_type": "code",
      "execution_count": 28,
      "id": "41f7a21c",
      "metadata": {},
      "outputs": [
        {
          "data": {
            "text/plain": [
              "<sklearn.metrics._plot.confusion_matrix.ConfusionMatrixDisplay at 0x1a04c50f640>"
            ]
          },
          "execution_count": 28,
          "metadata": {},
          "output_type": "execute_result"
        },
        {
          "data": {
            "image/png": "[encoded data removed]",
            "text/plain": [
              "<Figure size 432x288 with 2 Axes>"
            ]
          },
          "metadata": {
            "needs_background": "light"
          },
          "output_type": "display_data"
        }
      ],
      "source": [
        "cm = confusion_matrix(y_test, y_pred)\n",
        "disp = ConfusionMatrixDisplay(confusion_matrix=cm, display_labels=class_names)\n",
        "disp.plot()"
      ]
    }
  ],
  "metadata": {
    "colab": {
      "collapsed_sections": [],
      "name": "BERT Classification .ipynb",
      "provenance": []
    },
    "kernelspec": {
      "display_name": "Python 3 (ipykernel)",
      "language": "python",
      "name": "python3"
    },
    "language_info": {
      "codemirror_mode": {
        "name": "ipython",
        "version": 3
      },
      "file_extension": ".py",
      "mimetype": "text/x-python",
      "name": "python",
      "nbconvert_exporter": "python",
      "pygments_lexer": "ipython3",
      "version": "3.9.10"
    }
  },
  "nbformat": 4,
  "nbformat_minor": 5
}
